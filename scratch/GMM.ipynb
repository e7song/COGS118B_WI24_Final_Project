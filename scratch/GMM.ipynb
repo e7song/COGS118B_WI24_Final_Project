{
 "cells": [
  {
   "cell_type": "markdown",
   "id": "8865529c",
   "metadata": {},
   "source": [
    "# GMM"
   ]
  },
  {
   "cell_type": "markdown",
   "id": "c6767b0c",
   "metadata": {},
   "source": [
    "### Getting Started"
   ]
  },
  {
   "cell_type": "code",
   "execution_count": 2,
   "id": "090ce30d",
   "metadata": {},
   "outputs": [],
   "source": [
    "import numpy as np\n",
    "import pandas as pd\n",
    "\n",
    "from sklearn.preprocessing import OneHotEncoder\n",
    "from sklearn.decomposition import PCA\n",
    "from sklearn.preprocessing import StandardScaler\n",
    "from sklearn.linear_model import LinearRegression\n",
    "from sklearn.metrics import accuracy_score\n",
    "from sklearn.inspection import permutation_importance\n",
    "from sklearn.cluster import KMeans\n",
    "from sklearn.pipeline import Pipeline\n",
    "from sklearn.model_selection import GridSearchCV\n",
    "from sklearn.metrics import silhouette_score\n",
    "\n",
    "from scipy.cluster.hierarchy import linkage, dendrogram\n",
    "\n",
    "import matplotlib.pyplot as plt\n",
    "import seaborn as sns"
   ]
  },
  {
   "cell_type": "markdown",
   "id": "6460e5bf",
   "metadata": {},
   "source": [
    "### Import and Preprocess New Feature Engineered Dataset"
   ]
  },
  {
   "cell_type": "code",
   "execution_count": 3,
   "id": "dd44fcdb",
   "metadata": {
    "scrolled": true
   },
   "outputs": [
    {
     "data": {
      "text/html": [
       "<div>\n",
       "<style scoped>\n",
       "    .dataframe tbody tr th:only-of-type {\n",
       "        vertical-align: middle;\n",
       "    }\n",
       "\n",
       "    .dataframe tbody tr th {\n",
       "        vertical-align: top;\n",
       "    }\n",
       "\n",
       "    .dataframe thead th {\n",
       "        text-align: right;\n",
       "    }\n",
       "</style>\n",
       "<table border=\"1\" class=\"dataframe\">\n",
       "  <thead>\n",
       "    <tr style=\"text-align: right;\">\n",
       "      <th></th>\n",
       "      <th>Word</th>\n",
       "      <th>Length</th>\n",
       "      <th>Log_Freq_HAL</th>\n",
       "      <th>I_Zscore</th>\n",
       "      <th>I_Mean_Accuracy</th>\n",
       "      <th>Vowels</th>\n",
       "      <th>Entropy</th>\n",
       "      <th>PoS</th>\n",
       "      <th>SentimentScore</th>\n",
       "    </tr>\n",
       "  </thead>\n",
       "  <tbody>\n",
       "    <tr>\n",
       "      <th>0</th>\n",
       "      <td>a</td>\n",
       "      <td>1</td>\n",
       "      <td>16.18</td>\n",
       "      <td>-0.01</td>\n",
       "      <td>0.73</td>\n",
       "      <td>1</td>\n",
       "      <td>-0.000000</td>\n",
       "      <td>DT</td>\n",
       "      <td>0.0</td>\n",
       "    </tr>\n",
       "    <tr>\n",
       "      <th>1</th>\n",
       "      <td>aah</td>\n",
       "      <td>3</td>\n",
       "      <td>5.40</td>\n",
       "      <td>0.21</td>\n",
       "      <td>0.62</td>\n",
       "      <td>2</td>\n",
       "      <td>0.918296</td>\n",
       "      <td>JJ</td>\n",
       "      <td>0.0</td>\n",
       "    </tr>\n",
       "    <tr>\n",
       "      <th>2</th>\n",
       "      <td>aaron</td>\n",
       "      <td>5</td>\n",
       "      <td>9.29</td>\n",
       "      <td>-0.11</td>\n",
       "      <td>0.97</td>\n",
       "      <td>3</td>\n",
       "      <td>1.921928</td>\n",
       "      <td>NN</td>\n",
       "      <td>0.0</td>\n",
       "    </tr>\n",
       "    <tr>\n",
       "      <th>3</th>\n",
       "      <td>aback</td>\n",
       "      <td>5</td>\n",
       "      <td>5.96</td>\n",
       "      <td>0.11</td>\n",
       "      <td>0.45</td>\n",
       "      <td>2</td>\n",
       "      <td>1.921928</td>\n",
       "      <td>NN</td>\n",
       "      <td>0.0</td>\n",
       "    </tr>\n",
       "    <tr>\n",
       "      <th>4</th>\n",
       "      <td>abacus</td>\n",
       "      <td>6</td>\n",
       "      <td>6.24</td>\n",
       "      <td>0.65</td>\n",
       "      <td>0.47</td>\n",
       "      <td>3</td>\n",
       "      <td>2.251629</td>\n",
       "      <td>NN</td>\n",
       "      <td>0.0</td>\n",
       "    </tr>\n",
       "  </tbody>\n",
       "</table>\n",
       "</div>"
      ],
      "text/plain": [
       "     Word  Length  Log_Freq_HAL  I_Zscore  I_Mean_Accuracy  Vowels   Entropy  \\\n",
       "0       a       1         16.18     -0.01             0.73       1 -0.000000   \n",
       "1     aah       3          5.40      0.21             0.62       2  0.918296   \n",
       "2   aaron       5          9.29     -0.11             0.97       3  1.921928   \n",
       "3   aback       5          5.96      0.11             0.45       2  1.921928   \n",
       "4  abacus       6          6.24      0.65             0.47       3  2.251629   \n",
       "\n",
       "  PoS  SentimentScore  \n",
       "0  DT             0.0  \n",
       "1  JJ             0.0  \n",
       "2  NN             0.0  \n",
       "3  NN             0.0  \n",
       "4  NN             0.0  "
      ]
     },
     "execution_count": 3,
     "metadata": {},
     "output_type": "execute_result"
    }
   ],
   "source": [
    "df = pd.read_csv(\"../data/NewWordDifficulty.csv\")\n",
    "df.head()"
   ]
  },
  {
   "cell_type": "code",
   "execution_count": 4,
   "id": "3360d05c",
   "metadata": {},
   "outputs": [],
   "source": [
    "df = df.drop('PoS', axis=1)"
   ]
  },
  {
   "cell_type": "code",
   "execution_count": 5,
   "id": "a7776503",
   "metadata": {},
   "outputs": [],
   "source": [
    "# # One hot encode PoS column\n",
    "# encoder = OneHotEncoder(sparse_output=False)\n",
    "# encoded_data = encoder.fit_transform(df[['PoS']])\n",
    "# encoded_df = pd.DataFrame(encoded_data, columns=encoder.get_feature_names_out(['PoS']))\n",
    "\n",
    "# # Replace original PoS column\n",
    "# df.drop('PoS', axis=1, inplace=True)\n",
    "# df = pd.concat([df, encoded_df], axis=1)"
   ]
  },
  {
   "cell_type": "code",
   "execution_count": 6,
   "id": "386d6413",
   "metadata": {},
   "outputs": [
    {
     "data": {
      "text/html": [
       "<div>\n",
       "<style scoped>\n",
       "    .dataframe tbody tr th:only-of-type {\n",
       "        vertical-align: middle;\n",
       "    }\n",
       "\n",
       "    .dataframe tbody tr th {\n",
       "        vertical-align: top;\n",
       "    }\n",
       "\n",
       "    .dataframe thead th {\n",
       "        text-align: right;\n",
       "    }\n",
       "</style>\n",
       "<table border=\"1\" class=\"dataframe\">\n",
       "  <thead>\n",
       "    <tr style=\"text-align: right;\">\n",
       "      <th></th>\n",
       "      <th>Length</th>\n",
       "      <th>Log_Freq_HAL</th>\n",
       "      <th>I_Zscore</th>\n",
       "      <th>I_Mean_Accuracy</th>\n",
       "      <th>Vowels</th>\n",
       "      <th>Entropy</th>\n",
       "      <th>SentimentScore</th>\n",
       "    </tr>\n",
       "    <tr>\n",
       "      <th>Word</th>\n",
       "      <th></th>\n",
       "      <th></th>\n",
       "      <th></th>\n",
       "      <th></th>\n",
       "      <th></th>\n",
       "      <th></th>\n",
       "      <th></th>\n",
       "    </tr>\n",
       "  </thead>\n",
       "  <tbody>\n",
       "    <tr>\n",
       "      <th>a</th>\n",
       "      <td>1</td>\n",
       "      <td>16.18</td>\n",
       "      <td>-0.01</td>\n",
       "      <td>0.73</td>\n",
       "      <td>1</td>\n",
       "      <td>-0.000000</td>\n",
       "      <td>0.0</td>\n",
       "    </tr>\n",
       "    <tr>\n",
       "      <th>aah</th>\n",
       "      <td>3</td>\n",
       "      <td>5.40</td>\n",
       "      <td>0.21</td>\n",
       "      <td>0.62</td>\n",
       "      <td>2</td>\n",
       "      <td>0.918296</td>\n",
       "      <td>0.0</td>\n",
       "    </tr>\n",
       "    <tr>\n",
       "      <th>aaron</th>\n",
       "      <td>5</td>\n",
       "      <td>9.29</td>\n",
       "      <td>-0.11</td>\n",
       "      <td>0.97</td>\n",
       "      <td>3</td>\n",
       "      <td>1.921928</td>\n",
       "      <td>0.0</td>\n",
       "    </tr>\n",
       "    <tr>\n",
       "      <th>aback</th>\n",
       "      <td>5</td>\n",
       "      <td>5.96</td>\n",
       "      <td>0.11</td>\n",
       "      <td>0.45</td>\n",
       "      <td>2</td>\n",
       "      <td>1.921928</td>\n",
       "      <td>0.0</td>\n",
       "    </tr>\n",
       "    <tr>\n",
       "      <th>abacus</th>\n",
       "      <td>6</td>\n",
       "      <td>6.24</td>\n",
       "      <td>0.65</td>\n",
       "      <td>0.47</td>\n",
       "      <td>3</td>\n",
       "      <td>2.251629</td>\n",
       "      <td>0.0</td>\n",
       "    </tr>\n",
       "  </tbody>\n",
       "</table>\n",
       "</div>"
      ],
      "text/plain": [
       "        Length  Log_Freq_HAL  I_Zscore  I_Mean_Accuracy  Vowels   Entropy  \\\n",
       "Word                                                                        \n",
       "a            1         16.18     -0.01             0.73       1 -0.000000   \n",
       "aah          3          5.40      0.21             0.62       2  0.918296   \n",
       "aaron        5          9.29     -0.11             0.97       3  1.921928   \n",
       "aback        5          5.96      0.11             0.45       2  1.921928   \n",
       "abacus       6          6.24      0.65             0.47       3  2.251629   \n",
       "\n",
       "        SentimentScore  \n",
       "Word                    \n",
       "a                  0.0  \n",
       "aah                0.0  \n",
       "aaron              0.0  \n",
       "aback              0.0  \n",
       "abacus             0.0  "
      ]
     },
     "execution_count": 6,
     "metadata": {},
     "output_type": "execute_result"
    }
   ],
   "source": [
    "df.set_index('Word', inplace=True)\n",
    "df.head()"
   ]
  },
  {
   "cell_type": "markdown",
   "id": "3d6ff81c",
   "metadata": {},
   "source": [
    "### GMM"
   ]
  },
  {
   "cell_type": "code",
   "execution_count": 7,
   "id": "2d045257",
   "metadata": {},
   "outputs": [
    {
     "data": {
      "text/plain": [
       "array([[-2.84322901e+00,  4.17323203e+00, -3.13564869e-02, ...,\n",
       "        -1.60793955e+00, -6.39046258e+00,  3.64611341e-02],\n",
       "       [-2.03057885e+00, -3.23577986e-01,  4.43770274e-01, ...,\n",
       "        -8.03215158e-01, -4.14123593e+00,  3.64611341e-02],\n",
       "       [-1.21792869e+00,  1.29911134e+00, -2.47323196e-01, ...,\n",
       "         1.50923555e-03, -1.68299061e+00,  3.64611341e-02],\n",
       "       ...,\n",
       "       [-8.11603611e-01,  5.44081089e-01,  1.84610223e-01, ...,\n",
       "        -8.03215158e-01, -5.89881803e-02,  3.64611341e-02],\n",
       "       [-1.21792869e+00, -2.57615443e+00, -3.55306551e-01, ...,\n",
       "        -8.03215158e-01, -7.03251146e-01,  3.64611341e-02],\n",
       "       [-1.62425377e+00, -2.57615443e+00, -5.92869932e-01, ...,\n",
       "        -8.03215158e-01, -1.49176529e+00,  3.47714440e+00]])"
      ]
     },
     "execution_count": 7,
     "metadata": {},
     "output_type": "execute_result"
    }
   ],
   "source": [
    "scaler = StandardScaler()\n",
    "scaled_features = scaler.fit_transform(df)\n",
    "scaled_features"
   ]
  },
  {
   "cell_type": "code",
   "execution_count": null,
   "id": "3ad8cb3e",
   "metadata": {
    "scrolled": true
   },
   "outputs": [],
   "source": [
    "scaled_features.shape"
   ]
  },
  {
   "cell_type": "code",
   "execution_count": null,
   "id": "97d86db4",
   "metadata": {},
   "outputs": [],
   "source": [
    "from sklearn.mixture import GaussianMixture\n",
    "\n",
    "# Fit GMM to the data\n",
    "gmm = GaussianMixture(n_components=2, covariance_type='tied')\n",
    "gmm.fit(scaled_features)\n",
    "\n",
    "# Predict clusters\n",
    "labels = gmm.predict(scaled_features)\n",
    "\n",
    "# Plot the data points with color-coded clusters\n",
    "plt.scatter(scaled_features[:, 3], scaled_features[:, 2], c=labels, cmap='viridis', s=50, alpha=0.3)\n",
    "plt.title('GMM Clustering')\n",
    "plt.xlabel('Feature 1')\n",
    "plt.ylabel('Feature 2')\n",
    "plt.colorbar()\n",
    "plt.show()"
   ]
  },
  {
   "cell_type": "code",
   "execution_count": null,
   "id": "0bced9bc",
   "metadata": {},
   "outputs": [],
   "source": [
    "silhouette_score(scaled_features, labels)"
   ]
  },
  {
   "cell_type": "code",
   "execution_count": null,
   "id": "3d6802cf",
   "metadata": {},
   "outputs": [],
   "source": [
    "for idx, label in enumerate(labels):\n",
    "    labels[idx] = 1 if label == 0 else 0"
   ]
  },
  {
   "cell_type": "code",
   "execution_count": null,
   "id": "d3a33302",
   "metadata": {},
   "outputs": [],
   "source": [
    "import colorcet as cc\n",
    "knn = KMeans(n_clusters=2)\n",
    "knn_labels = knn.fit_predict(df)\n",
    "kmeans_df = df\n",
    "kmeans_df['Labels'] = knn_labels\n",
    "grouped = kmeans_df.groupby('Labels')\n",
    "palette = sns.color_palette(cc.glasbey, n_colors=2)\n",
    "\n",
    "colors = pd.Categorical(df['Labels']).codes\n",
    "colors = [palette[i] for i in colors]\n",
    "\n",
    "plt.figure(figsize=(8, 6))\n",
    "plt.scatter(kmeans_df['I_Mean_Accuracy'], kmeans_df['I_Zscore'], c=colors, label=df['Labels'], alpha=0.3)\n",
    "plt.title('I_Mean_Accuracy vs I_Zscore')\n",
    "plt.show()"
   ]
  },
  {
   "cell_type": "code",
   "execution_count": null,
   "id": "ff74b0e5",
   "metadata": {},
   "outputs": [],
   "source": [
    "silhouette_score(scaled_features, knn_labels)"
   ]
  },
  {
   "cell_type": "code",
   "execution_count": null,
   "id": "d928d97d",
   "metadata": {},
   "outputs": [],
   "source": [
    "from sklearn.metrics import mutual_info_score\n",
    "\n",
    "mutual_info_score(labels, knn_labels)"
   ]
  },
  {
   "cell_type": "code",
   "execution_count": null,
   "id": "be138fef",
   "metadata": {},
   "outputs": [],
   "source": [
    "knn_labels"
   ]
  },
  {
   "cell_type": "markdown",
   "id": "f7560186",
   "metadata": {},
   "source": [
    "### Spectral Clustering"
   ]
  },
  {
   "cell_type": "code",
   "execution_count": null,
   "id": "6eb0fc75",
   "metadata": {},
   "outputs": [],
   "source": [
    "# Apply PCA\n",
    "n_components = 3\n",
    "pca = PCA(n_components=n_components)\n",
    "principal_components = pca.fit_transform(scaled_features)\n",
    "\n",
    "comp = pd.DataFrame(data=principal_components, columns=[f'PC{i}' for i in range(1, n_components + 1)])\n",
    "comp.head()"
   ]
  },
  {
   "cell_type": "code",
   "execution_count": null,
   "id": "85acc664",
   "metadata": {},
   "outputs": [],
   "source": [
    "n_clusters = 3  # specify the number of clusters\n",
    "spectral_clustering = SpectralClustering(n_clusters=n_clusters, affinity='rbf', n_neighbors=10, n_jobs=4)\n",
    "cluster_labels = spectral_clustering.fit_predict(scaled_features)"
   ]
  },
  {
   "cell_type": "code",
   "execution_count": null,
   "id": "0197f004",
   "metadata": {},
   "outputs": [],
   "source": [
    "silhouette_score(scaled_features, cluster_labels)"
   ]
  },
  {
   "cell_type": "code",
   "execution_count": 8,
   "id": "7bb9369a",
   "metadata": {},
   "outputs": [],
   "source": [
    "from scipy import stats\n",
    "from scipy.sparse.csgraph import laplacian\n",
    "from scipy.linalg import eigh\n",
    "from sklearn.datasets import make_circles, make_moons\n",
    "from sklearn.metrics.pairwise import rbf_kernel\n",
    "from sklearn.preprocessing import StandardScaler\n",
    "from sklearn.neighbors import kneighbors_graph\n",
    "from sklearn.cluster import KMeans, SpectralClustering\n",
    "\n",
    "\n",
    "def generate_graph_laplacian(df, nn):\n",
    "    \"\"\"Generate graph Laplacian from data.\"\"\"\n",
    "    # Adjacency/Affinity Matrix.\n",
    "    connectivity = kneighbors_graph(X=df, n_neighbors=nn)\n",
    "    adjacency_matrix_s = (1/2)*(connectivity + connectivity.T)\n",
    "    # Graph Laplacian.\n",
    "    graph_laplacian_s = laplacian(csgraph=adjacency_matrix_s, normed=False)\n",
    "    graph_laplacian = graph_laplacian_s.toarray()\n",
    "    return graph_laplacian "
   ]
  },
  {
   "cell_type": "code",
   "execution_count": null,
   "id": "83f048a7",
   "metadata": {},
   "outputs": [],
   "source": [
    "graph_laplacian = generate_graph_laplacian(df, nn=10)\n",
    "\n",
    "eigenvals, eigenvcts = eigh(graph_laplacian)"
   ]
  },
  {
   "cell_type": "code",
   "execution_count": 17,
   "id": "700be9c1",
   "metadata": {},
   "outputs": [
    {
     "data": {
      "image/png": "[encoded data removed]",
      "text/plain": [
       "<Figure size 1000x600 with 1 Axes>"
      ]
     },
     "metadata": {},
     "output_type": "display_data"
    }
   ],
   "source": [
    "fig, ax = plt.subplots(figsize=(10, 6))\n",
    "sns.lineplot(x=range(len(eigenvals)), y=eigenvals, ax=ax)\n",
    "ax.set(title='Sorted Eigenvalues Graph Laplacian', xlabel='index', ylabel=r'$\\lambda$');"
   ]
  },
  {
   "cell_type": "code",
   "execution_count": 18,
   "id": "89bfa192",
   "metadata": {},
   "outputs": [
    {
     "data": {
      "text/plain": [
       "array([[1.6143621e-15]])"
      ]
     },
     "execution_count": 18,
     "metadata": {},
     "output_type": "execute_result"
    }
   ],
   "source": [
    "zero_eigenvals_index = np.argwhere(abs(eigenvals) < 1e-5) # arbitrary number close to zero\n",
    "zeroeigens = eigenvals[zero_eigenvals_index]\n",
    "nzeros = len(zeroeigens)\n",
    "zeroeigens"
   ]
  },
  {
   "cell_type": "code",
   "execution_count": 19,
   "id": "2b00b50d",
   "metadata": {},
   "outputs": [
    {
     "data": {
      "text/html": [
       "<div>\n",
       "<style scoped>\n",
       "    .dataframe tbody tr th:only-of-type {\n",
       "        vertical-align: middle;\n",
       "    }\n",
       "\n",
       "    .dataframe tbody tr th {\n",
       "        vertical-align: top;\n",
       "    }\n",
       "\n",
       "    .dataframe thead th {\n",
       "        text-align: right;\n",
       "    }\n",
       "</style>\n",
       "<table border=\"1\" class=\"dataframe\">\n",
       "  <thead>\n",
       "    <tr style=\"text-align: right;\">\n",
       "      <th></th>\n",
       "      <th>v_0</th>\n",
       "    </tr>\n",
       "  </thead>\n",
       "  <tbody>\n",
       "    <tr>\n",
       "      <th>0</th>\n",
       "      <td>-0.005001</td>\n",
       "    </tr>\n",
       "    <tr>\n",
       "      <th>1</th>\n",
       "      <td>-0.005001</td>\n",
       "    </tr>\n",
       "    <tr>\n",
       "      <th>2</th>\n",
       "      <td>-0.005001</td>\n",
       "    </tr>\n",
       "    <tr>\n",
       "      <th>3</th>\n",
       "      <td>-0.005001</td>\n",
       "    </tr>\n",
       "    <tr>\n",
       "      <th>4</th>\n",
       "      <td>-0.005001</td>\n",
       "    </tr>\n",
       "  </tbody>\n",
       "</table>\n",
       "</div>"
      ],
      "text/plain": [
       "        v_0\n",
       "0 -0.005001\n",
       "1 -0.005001\n",
       "2 -0.005001\n",
       "3 -0.005001\n",
       "4 -0.005001"
      ]
     },
     "execution_count": 19,
     "metadata": {},
     "output_type": "execute_result"
    }
   ],
   "source": [
    "proj_df = pd.DataFrame(eigenvcts[:, zero_eigenvals_index.squeeze()])\n",
    "proj_df.columns = ['v_' + str(c) for c in proj_df.columns]\n",
    "proj_df.head()"
   ]
  },
  {
   "cell_type": "code",
   "execution_count": 20,
   "id": "24f6b2e4",
   "metadata": {},
   "outputs": [
    {
     "name": "stderr",
     "output_type": "stream",
     "text": [
      "C:\\ProgramData\\anaconda3\\Lib\\site-packages\\sklearn\\cluster\\_kmeans.py:870: FutureWarning: The default value of `n_init` will change from 10 to 'auto' in 1.4. Set the value of `n_init` explicitly to suppress the warning\n",
      "  warnings.warn(\n",
      "C:\\ProgramData\\anaconda3\\Lib\\site-packages\\sklearn\\cluster\\_kmeans.py:870: FutureWarning: The default value of `n_init` will change from 10 to 'auto' in 1.4. Set the value of `n_init` explicitly to suppress the warning\n",
      "  warnings.warn(\n",
      "C:\\ProgramData\\anaconda3\\Lib\\site-packages\\sklearn\\cluster\\_kmeans.py:870: FutureWarning: The default value of `n_init` will change from 10 to 'auto' in 1.4. Set the value of `n_init` explicitly to suppress the warning\n",
      "  warnings.warn(\n",
      "C:\\ProgramData\\anaconda3\\Lib\\site-packages\\sklearn\\cluster\\_kmeans.py:870: FutureWarning: The default value of `n_init` will change from 10 to 'auto' in 1.4. Set the value of `n_init` explicitly to suppress the warning\n",
      "  warnings.warn(\n",
      "C:\\ProgramData\\anaconda3\\Lib\\site-packages\\sklearn\\cluster\\_kmeans.py:870: FutureWarning: The default value of `n_init` will change from 10 to 'auto' in 1.4. Set the value of `n_init` explicitly to suppress the warning\n",
      "  warnings.warn(\n"
     ]
    }
   ],
   "source": [
    "inertias = []\n",
    "\n",
    "k_candidates = [2, 3, 6, 12, 24]\n",
    "\n",
    "for k in k_candidates:\n",
    "    k_means = KMeans(random_state=42, n_clusters=k)\n",
    "    k_means.fit(proj_df)\n",
    "    inertias.append(k_means.inertia_)"
   ]
  },
  {
   "cell_type": "code",
   "execution_count": 21,
   "id": "a85bfa70",
   "metadata": {},
   "outputs": [
    {
     "data": {
      "image/png": "[encoded data removed]",
      "text/plain": [
       "<Figure size 1000x600 with 1 Axes>"
      ]
     },
     "metadata": {},
     "output_type": "display_data"
    }
   ],
   "source": [
    "fig, ax = plt.subplots(figsize=(10, 6))\n",
    "sns.scatterplot(x=k_candidates, y = inertias, s=80, ax=ax)\n",
    "sns.lineplot(x=k_candidates, y = inertias, alpha=0.5, ax=ax)\n",
    "ax.set(title='Inertia K-Means', ylabel='inertia', xlabel='k');"
   ]
  },
  {
   "cell_type": "code",
   "execution_count": 15,
   "id": "00177536",
   "metadata": {},
   "outputs": [],
   "source": [
    "proj_df.to_csv('../outputs/proj_df.csv',index=False)"
   ]
  },
  {
   "cell_type": "code",
   "execution_count": 22,
   "id": "2700cf5b",
   "metadata": {},
   "outputs": [
    {
     "name": "stderr",
     "output_type": "stream",
     "text": [
      "C:\\ProgramData\\anaconda3\\Lib\\site-packages\\sklearn\\cluster\\_kmeans.py:870: FutureWarning: The default value of `n_init` will change from 10 to 'auto' in 1.4. Set the value of `n_init` explicitly to suppress the warning\n",
      "  warnings.warn(\n"
     ]
    }
   ],
   "source": [
    "clust = KMeans(n_clusters=6).fit_predict(proj_df)"
   ]
  },
  {
   "cell_type": "code",
   "execution_count": 23,
   "id": "f029c72e",
   "metadata": {},
   "outputs": [
    {
     "data": {
      "text/plain": [
       "-0.0001828422547400991"
      ]
     },
     "execution_count": 23,
     "metadata": {},
     "output_type": "execute_result"
    }
   ],
   "source": [
    "silhouette_score(df, clust)"
   ]
  },
  {
   "cell_type": "code",
   "execution_count": null,
   "id": "f97bdfce",
   "metadata": {},
   "outputs": [],
   "source": []
  }
 ],
 "metadata": {
  "kernelspec": {
   "display_name": "Python 3 (ipykernel)",
   "language": "python",
   "name": "python3"
  },
  "language_info": {
   "codemirror_mode": {
    "name": "ipython",
    "version": 3
   },
   "file_extension": ".py",
   "mimetype": "text/x-python",
   "name": "python",
   "nbconvert_exporter": "python",
   "pygments_lexer": "ipython3",
   "version": "3.11.3"
  }
 },
 "nbformat": 4,
 "nbformat_minor": 5
}
